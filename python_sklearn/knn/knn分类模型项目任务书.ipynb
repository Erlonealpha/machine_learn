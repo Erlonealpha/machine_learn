{
 "cells": [
  {
   "cell_type": "markdown",
   "metadata": {},
   "source": [
    "## 任务1：数据预处理\n",
    "要求：<br>\n",
    "1. 导入数据集\n",
    "2. 打印数据集基本信息，检查是否有缺项\n",
    "3. 提取出分类标签和特征数据\n",
    "4. 统计每个故障类别的数量并绘制条形图"
   ]
  },
  {
   "cell_type": "code",
   "execution_count": null,
   "metadata": {},
   "outputs": [],
   "source": [
    "# 导入相应模块\n",
    "import pandas as pd\n",
    "\n",
    "# 使用read_csv函数读取数据集文件\n",
    "df = pd.read_csv('./data/test_data.csv')\n",
    "\n",
    "# 显示数据的前5行\n",
    "df.head()\n"
   ]
  },
  {
   "cell_type": "code",
   "execution_count": null,
   "metadata": {},
   "outputs": [],
   "source": [
    "# 打印数据集的形状\n",
    "print('shape \\n',df.shape())"
   ]
  },
  {
   "cell_type": "code",
   "execution_count": null,
   "metadata": {},
   "outputs": [],
   "source": [
    "# 打印数据集描述性统计信息\n",
    "print('describe \\n',df.describe())"
   ]
  },
  {
   "cell_type": "code",
   "execution_count": null,
   "metadata": {},
   "outputs": [],
   "source": [
    "# 获取分类目标标签\n",
    "y = df['label']\n",
    "y.shape"
   ]
  },
  {
   "cell_type": "code",
   "execution_count": null,
   "metadata": {},
   "outputs": [],
   "source": [
    "# 获取特征\n",
    "x = df.iloc[:, :-1]\n",
    "x.shape"
   ]
  },
  {
   "cell_type": "code",
   "execution_count": null,
   "metadata": {},
   "outputs": [],
   "source": [
    "# 导入sklearn中的数据预处理模块\n",
    "from sklearn.preprocessing import Normalizer\n",
    "\n",
    "# 进行数据归一化\n",
    "X_normal = Normalizer().fit_transform(x)"
   ]
  },
  {
   "cell_type": "code",
   "execution_count": null,
   "metadata": {},
   "outputs": [],
   "source": [
    "# 绘制统计故障类型的条形图\n",
    "import matplotlib.pyplot as plt\n",
    "\n",
    "myHeight = []\n",
    "for i in range(10):\n",
    "    myHeight.append(y[y == i].count())\n",
    "myHeight\n",
    "\n",
    "x_zhou = range(10)\n",
    "\n",
    "plt.rcParams['font.sans-serif'] = 'SimHei'\n",
    "plt.rcParams['axes.unicode_minus'] = False\n",
    "\n",
    "plt.figure(figsize=(8, 8), dpi=100)\n",
    "plt.bar(x_zhou, myHeight, width=0.8)\n",
    "\n",
    "for i in range(len(myHeight)):\n",
    "    plt.text(i, myHeight[i], '{}'.format(myHeight[i]),va='bottom', ha='center')\n",
    "\n",
    "plt.xticks(x_zhou, ['类别0', '类别1', '类别2', '类别3', '类别4', '类别5', '类别6', '类别7', '类别8', '类别9'])\n",
    "plt.ylim([0, 200])\n",
    "plt.title('轴承故障类别条形图')\n",
    "plt.show()"
   ]
  },
  {
   "cell_type": "markdown",
   "metadata": {},
   "source": [
    "## 任务2：创建KNN分类器并完成模型训练\n",
    "要求：<br>\n",
    "1. 导入KNN分类器所需要的模块\n",
    "2. 按8：2比例划分数据集为训练集和验证集\n",
    "3. 创建KNN分类器，使用默认参数\n",
    "4. 使用测试集数据训练模型"
   ]
  },
  {
   "cell_type": "code",
   "execution_count": null,
   "metadata": {},
   "outputs": [],
   "source": [
    "# 导入数据集划分函数和KNN分类器函数\n",
    "from sklearn.model_selection import train_test_split\n",
    "from sklearn.neighbors import KNeighborsClassifier\n",
    "\n",
    "# 划分数据集，比例8:2\n",
    "X_train, X_test, y_train, y_test = train_test_split(X_normal, y, test_size=0.2, random_state=1)\n",
    "\n",
    "# 创建KNN分类器\n",
    "knn = KNeighborsClassifier()\n",
    "# 进行模型训练\n",
    "knn.fit(X_train, y_train)\n"
   ]
  },
  {
   "cell_type": "markdown",
   "metadata": {},
   "source": [
    "## 任务3：模型验证\n",
    "要求：<br>\n",
    "1. 利用训练得到的模型，打印验证集前10个样本的分类推理结果\n",
    "2. 打印验证集在模型上的推理得分\n",
    "3. 打印验证集前3个样本对应的类别\n",
    "4. 打印模型的所有参数"
   ]
  },
  {
   "cell_type": "code",
   "execution_count": null,
   "metadata": {},
   "outputs": [],
   "source": [
    "# 打印模型预测的前10个样本分类结果\n",
    "print('预测前10个结果为：\\n', knn.predict(X_test[:10]))\n",
    "# print('前10个结果的真实值为：\\n', y_test[:10])\n",
    "# 打印测试集准确率\n",
    "print('测试集准确率为：', knn.score(X_test, y_test))\n",
    "# 打印测试集前3个对应类别的概率\n",
    "print('测试集前3个对应类别的概率为：\\n', knn.predict_proba(X_test[:3]))\n",
    "# 获取模型参数\n",
    "print('模型的参数为：\\n', knn.get_params())\n"
   ]
  },
  {
   "cell_type": "code",
   "execution_count": null,
   "metadata": {},
   "outputs": [],
   "source": [
    "best_method = \"\"\n",
    "best_score = 0.0\n",
    "best_k = -1\n",
    "for method in [\"uniform\", \"distance\"]:\n",
    "    for k in range(1, 11):\n",
    "        knn_clf = KNeighborsClassifier(n_neighbors = k)\n",
    "        knn_clf.fit(X_train, y_train)\n",
    "        knn_score = knn_clf.score(X_test, y_test)\n",
    "        if knn_score > best_score:\n",
    "            best_score = knn_score\n",
    "            best_k = k\n",
    "            best_method = method\n",
    "\n",
    "print(\"best_mrthod = \", best_method)\n",
    "print(\"best_k = \", best_k)\n",
    "print(\"best_score = \", best_score)"
   ]
  }
 ],
 "metadata": {
  "kernelspec": {
   "display_name": "base",
   "language": "python",
   "name": "python3"
  },
  "language_info": {
   "name": "python",
   "version": "3.11.4"
  }
 },
 "nbformat": 4,
 "nbformat_minor": 2
}
