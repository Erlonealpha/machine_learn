{
 "cells": [
  {
   "cell_type": "code",
   "execution_count": 1,
   "id": "4dc5b1a6",
   "metadata": {},
   "outputs": [
    {
     "name": "stdout",
     "output_type": "stream",
     "text": [
      "x_train第1行数据为：\n",
      " [[1.184e+01 1.870e+01 7.793e+01 4.406e+02 1.109e-01 1.516e-01 1.218e-01\n",
      "  5.182e-02 2.301e-01 7.799e-02 4.825e-01 1.030e+00 3.475e+00 4.100e+01\n",
      "  5.551e-03 3.414e-02 4.205e-02 1.044e-02 2.273e-02 5.667e-03 1.682e+01\n",
      "  2.812e+01 1.194e+02 8.887e+02 1.637e-01 5.775e-01 6.956e-01 1.546e-01\n",
      "  4.761e-01 1.402e-01]] \n",
      " y_train第1个数据为： [0]\n"
     ]
    }
   ],
   "source": [
    "from sklearn.datasets import load_breast_cancer\n",
    "from sklearn.model_selection import train_test_split\n",
    "# 导入load_breast_cancer数据\n",
    "cancer = load_breast_cancer()\n",
    "x = cancer['data']\n",
    "y = cancer['target']\n",
    "# 将数据划分为训练集测试集\n",
    "x_train, x_test, y_train, y_test = train_test_split(x, y, test_size=0.2, random_state=22)\n",
    "print('x_train第1行数据为：\\n', x_train[0: 1], '\\n', 'y_train第1个数据为：', y_train[0: 1])"
   ]
  },
  {
   "cell_type": "code",
   "execution_count": 2,
   "id": "a88a09e3",
   "metadata": {},
   "outputs": [
    {
     "name": "stdout",
     "output_type": "stream",
     "text": [
      "训练出来的LogisticRegression模型为：\n",
      " LogisticRegression(solver='saga')\n"
     ]
    },
    {
     "name": "stderr",
     "output_type": "stream",
     "text": [
      "C:\\ProgramData\\anaconda3\\Lib\\site-packages\\sklearn\\linear_model\\_sag.py:350: ConvergenceWarning: The max_iter was reached which means the coef_ did not converge\n",
      "  warnings.warn(\n"
     ]
    }
   ],
   "source": [
    "from sklearn.preprocessing import StandardScaler\n",
    "stdScaler = StandardScaler().fit(x_train)\n",
    "x_trainStd = stdScaler.transform(x_train)\n",
    "x_testStd = stdScaler.transform(x_test)\n",
    "# 使用LogisticRegression类构建Logistic回归模型\n",
    "from sklearn.linear_model import LogisticRegression\n",
    "lr_model = LogisticRegression(solver='saga')\n",
    "# 训练Logistic回归模型\n",
    "lr_model.fit(x_trainStd, y_train)\n",
    "print('训练出来的LogisticRegression模型为：\\n', lr_model)"
   ]
  },
  {
   "cell_type": "code",
   "execution_count": 3,
   "id": "e163e9f4",
   "metadata": {},
   "outputs": [
    {
     "name": "stdout",
     "output_type": "stream",
     "text": [
      "各特征的相关系数为：\n",
      " [[-0.58579014 -0.66067683 -0.55634186 -0.59607596 -0.13948389  0.28529265\n",
      "  -0.64271129 -0.73800361  0.02286473  0.54624353 -0.93870093  0.26864818\n",
      "  -0.68766744 -0.76848007 -0.2981475   0.57774825 -0.05569851 -0.14185517\n",
      "   0.47176926  0.57522735 -0.93120212 -1.03890126 -0.81967514 -0.87916831\n",
      "  -0.89658908 -0.09209329 -0.77421779 -0.86928201 -0.74314845 -0.29092414]]\n",
      "模型的截距为： [0.6446655]\n",
      "模型的迭代次数为： [100]\n"
     ]
    }
   ],
   "source": [
    "print('各特征的相关系数为：\\n', lr_model.coef_)\n",
    "\n",
    "print('模型的截距为：', lr_model.intercept_)\n",
    "\n",
    "print('模型的迭代次数为：', lr_model.n_iter_)"
   ]
  },
  {
   "cell_type": "code",
   "execution_count": 4,
   "id": "00fa6b9f",
   "metadata": {},
   "outputs": [
    {
     "name": "stdout",
     "output_type": "stream",
     "text": [
      "预测测试集前10个结果为：\n",
      " [1 0 0 0 1 1 1 1 1 1]\n",
      "测试集准确率为： 0.9736842105263158\n",
      "测试集前3个对应类别的概率为：\n",
      " [[1.39845803e-02 9.86015420e-01]\n",
      " [9.99999952e-01 4.80710478e-08]\n",
      " [9.99966961e-01 3.30387499e-05]]\n",
      "测试集前3个对应类别的概率的log值为：\n",
      " [[-4.26979997e+00 -1.40832858e-02]\n",
      " [-4.80710490e-08 -1.68505858e+01]\n",
      " [-3.30392957e-05 -1.03178294e+01]]\n",
      "测试集前3个的决策函数值为：\n",
      " [  4.25571668 -16.85058571 -10.31779641]\n",
      "模型的参数为：\n",
      " {'C': 1.0, 'class_weight': None, 'dual': False, 'fit_intercept': True, 'intercept_scaling': 1, 'l1_ratio': None, 'max_iter': 100, 'multi_class': 'auto', 'n_jobs': None, 'penalty': 'l2', 'random_state': None, 'solver': 'saga', 'tol': 0.0001, 'verbose': 0, 'warm_start': False}\n",
      "修改max_iter参数为1000后的模型为：\n",
      " LogisticRegression(max_iter=1000, solver='saga')\n",
      "系数矩阵转为密度数组后的模型为：\n",
      " LogisticRegression(max_iter=1000, solver='saga')\n",
      "系数矩阵转为稀疏形式后的模型为：\n",
      " LogisticRegression(max_iter=1000, solver='saga')\n"
     ]
    }
   ],
   "source": [
    "print('预测测试集前10个结果为：\\n', lr_model.predict(x_testStd)[: 10])\n",
    "\n",
    "print('测试集准确率为：', lr_model.score(x_testStd, y_test))\n",
    "\n",
    "print('测试集前3个对应类别的概率为：\\n', lr_model.predict_proba(x_testStd)[: 3])\n",
    "\n",
    "print('测试集前3个对应类别的概率的log值为：\\n',\n",
    "      lr_model.predict_log_proba(x_testStd)[: 3])\n",
    "\n",
    "print('测试集前3个的决策函数值为：\\n',\n",
    "      lr_model.decision_function(x_testStd)[: 3])\n",
    "\n",
    "print('模型的参数为：\\n', lr_model.get_params())\n",
    "\n",
    "print('修改max_iter参数为1000后的模型为：\\n', lr_model.set_params(max_iter=1000))\n",
    "\n",
    "print('系数矩阵转为密度数组后的模型为：\\n', lr_model.densify())\n",
    "\n",
    "print('系数矩阵转为稀疏形式后的模型为：\\n', lr_model.sparsify())"
   ]
  },
  {
   "cell_type": "code",
   "execution_count": null,
   "id": "7bb339cd",
   "metadata": {},
   "outputs": [],
   "source": []
  }
 ],
 "metadata": {
  "kernelspec": {
   "display_name": "Python 3 (ipykernel)",
   "language": "python",
   "name": "python3"
  },
  "language_info": {
   "codemirror_mode": {
    "name": "ipython",
    "version": 3
   },
   "file_extension": ".py",
   "mimetype": "text/x-python",
   "name": "python",
   "nbconvert_exporter": "python",
   "pygments_lexer": "ipython3",
   "version": "3.11.5"
  }
 },
 "nbformat": 4,
 "nbformat_minor": 5
}
